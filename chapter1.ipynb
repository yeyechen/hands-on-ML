{
 "cells": [
  {
   "cell_type": "markdown",
   "id": "32a686f2",
   "metadata": {},
   "source": [
    "## Chapter 1:"
   ]
  },
  {
   "cell_type": "markdown",
   "id": "170c9808",
   "metadata": {},
   "source": [
    "Machine Learning is the field of study that gives computers the ability to learn without being explicitly programmed. —Arthur Samuel, 1959  \n",
    "\n",
    "A computer program is said to learn from experience E with respect to some task T and some performance measure P, if its performance on T, as measured by P, improves with experience E. —Tom Mitchell, 1997\n",
    "\n",
    "Applying ML techniques to dig into large amounts of data can help discover patterns that were not immediately apparent. This is called data mining."
   ]
  },
  {
   "cell_type": "markdown",
   "id": "88bc09c0",
   "metadata": {},
   "source": [
    "Types of machine learning systems: **supervised leraning, unsupervised learning, semisupervised learning** and **reinforcement learning**. <br>\n",
    "Typical supervised learning task: **classification** and **regression**.\n",
    "\n",
    "Some of the most important supervised learning algorithms: \n",
    "- k-Nearest Neighbors\n",
    "- Linear Regression\n",
    "- Logistic Regression\n",
    "- Support Vector Machines (SVMs)\n",
    "- Decision Trees and Random Forests\n",
    "- Neural networks.\n",
    "\n",
    "Some of the most important unsupervised learning algorithms: \n",
    "- Clustering\n",
    "    - K-Means\n",
    "    - DBSCAN\n",
    "    - Hierarchical Cluster Analysis (HCA)\n",
    "- Anomaly detection and novelty detection\n",
    "    - One-class SVM\n",
    "    - Isolation Forest\n",
    "- Visualization and dimensionality reduction\n",
    "    - Principal Component Analysis (PCA)\n",
    "    - Kernel PCA\n",
    "    - Locally-Linear Embedding (LLE)\n",
    "    - t-distributed Stochastic Neighbor Embedding (t-SNE)\n",
    "- Association rule learning\n",
    "    - Apriori\n",
    "    - Eclat\n",
    "    \n",
    "Reinforcement learing: The learning system, called an agent in this context, can observe the environment, select and perform actions, and get rewards in return. It must then learn by itself what is the best strategy, called a policy, to get the most reward over time. A policy defines what action the agent should choose when it is in a given situation."
   ]
  },
  {
   "cell_type": "markdown",
   "id": "ea013d91",
   "metadata": {},
   "source": [
    "Batch and Online learning:\n",
    "- In batch learning, the system is incapable of learning incrementally: it must be trained using all the available data. This will generally take a lot of time and computing resources, so it is typically done offline.\n",
    "- In online learning, you train the system incrementally by feeding it data instances sequentially, either individually or by small groups called mini-batches. Each learning step is fast and cheap, so the system can learn about new data on the fly, as it arrives."
   ]
  },
  {
   "cell_type": "markdown",
   "id": "c884a652",
   "metadata": {},
   "source": [
    "Instance-based and Model-Based Learning:\n",
    "- Instance-based learning: the system learns the examples by heart, then generalizes to new cases by comparing them to the learned examples (or a subset of them), using a similarity measure.\n",
    "- Model-based learning: build a model of these exam‐ ples, then use that model to make predictions."
   ]
  },
  {
   "cell_type": "markdown",
   "id": "c7b0f385",
   "metadata": {},
   "source": [
    "Overfitting and Underfitting:\n",
    "- Overfitting means that the model performs well on the training data, but it does not generalize well.\n",
    "    - solution: simplify the model by selecting one with fewer parameters\n",
    "    - to gather more training data\n",
    "    - to reduce the noise in the training data\n",
    "- Underfitting occurs when your model is too simple to learn the underlying structure of the data.\n",
    "    - solution: selecting a more powerful model, with more parameters\n",
    "    - feeding better features to the learning algorithm (feature engineering)\n",
    "    - reducing the constraints on the model (e.g., reducing the regularization hyper‐ parameter)"
   ]
  },
  {
   "cell_type": "markdown",
   "id": "bb317e61",
   "metadata": {},
   "source": [
    "Dataset: 1. training set 2. test set 3. validation set (development set) <br>\n",
    "holdout validation: "
   ]
  }
 ],
 "metadata": {
  "kernelspec": {
   "display_name": "Python 3 (ipykernel)",
   "language": "python",
   "name": "python3"
  },
  "language_info": {
   "codemirror_mode": {
    "name": "ipython",
    "version": 3
   },
   "file_extension": ".py",
   "mimetype": "text/x-python",
   "name": "python",
   "nbconvert_exporter": "python",
   "pygments_lexer": "ipython3",
   "version": "3.9.10"
  }
 },
 "nbformat": 4,
 "nbformat_minor": 5
}
